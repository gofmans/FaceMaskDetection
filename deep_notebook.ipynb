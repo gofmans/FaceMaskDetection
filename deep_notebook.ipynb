{
 "cells": [
  {
   "cell_type": "code",
   "execution_count": null,
   "metadata": {},
   "outputs": [],
   "source": [
    "# %%bash\n",
    "# cd /StudentData\n",
    "# function gdrive_download () {\n",
    "#     CONFIRM=$(wget --quiet --save-cookies /tmp/cookies.txt --keep-session-cookies --no-check-certificate \"https://docs.google.com/uc?export=download&id=$1\" -O- | sed -rn 's/.*confirm=([0-9A-Za-z_]+).*/\\1\\n/p')\n",
    "#     wget --load-cookies /tmp/cookies.txt \"https://docs.google.com/uc?export=download&confirm=$CONFIRM&id=$1\" -O $2\n",
    "#     rm -rf /tmp/cookies.txt\n",
    "# }\n",
    "# gdrive_download 1U_wlpp_A_GFa24lZRuwqqNz5lv4Sw7yN train.tar\n",
    "# gdrive_download 1k-njgb8xXrp72pQv7k-Ro3foxJRtLWLr test.tar\n",
    "# tar -xf train.tar\n",
    "# tar -xf test.tar"
   ]
  },
  {
   "cell_type": "code",
   "execution_count": null,
   "metadata": {},
   "outputs": [],
   "source": [
    "from torch.utils.data import Dataset, DataLoader\n",
    "import torchvision.transforms as transforms\n",
    "from torchvision import transforms, utils\n",
    "import torchvision.datasets as dsets\n",
    "from sklearn.metrics import f1_score\n",
    "from skimage import io, transform\n",
    "import matplotlib.image as mpimg\n",
    "import torch.nn.functional as F\n",
    "import matplotlib.pyplot as plt\n",
    "from torch.optim import Adam\n",
    "import torch.optim as optim\n",
    "import torch.nn as nn\n",
    "import pandas as pd\n",
    "import numpy as np\n",
    "import torchvision\n",
    "import warnings\n",
    "import torch\n",
    "import time\n",
    "import os\n",
    "\n",
    "warnings.filterwarnings(\"ignore\")"
   ]
  },
  {
   "cell_type": "code",
   "execution_count": 2,
   "metadata": {},
   "outputs": [],
   "source": [
    "def to_gpu(x):\n",
    "    return x.cuda() if torch.cuda.is_available() else x"
   ]
  },
  {
   "cell_type": "markdown",
   "metadata": {},
   "source": [
    "# Define Data Loading"
   ]
  },
  {
   "cell_type": "code",
   "execution_count": 3,
   "metadata": {},
   "outputs": [],
   "source": [
    "class costum_images_dataset(Dataset):\n",
    "    def __init__(self, root_dir, transform=None):\n",
    "        \"\"\"\n",
    "        Args:\n",
    "            root_dir (string): Directory with all the images.\n",
    "            transform (callable, optional): Optional transform to be applied on a sample.\n",
    "        \"\"\"\n",
    "        self.root_dir = root_dir\n",
    "        self.transform = transform\n",
    "\n",
    "    def __len__(self):\n",
    "        return len(os.listdir(self.root_dir))\n",
    "\n",
    "    def __getitem__(self, idx):\n",
    "        if torch.is_tensor(idx):\n",
    "            idx = idx.tolist()\n",
    "        \n",
    "        img_name = os.path.join(self.root_dir, sorted(os.listdir(self.root_dir))[idx])\n",
    "        image = io.imread(img_name)\n",
    "        label = img_name[-5] # get the label of a given image\n",
    "        sample = (image, int(label))\n",
    "\n",
    "        if self.transform:\n",
    "            sample = self.transform(sample)\n",
    "\n",
    "        return sample"
   ]
  },
  {
   "cell_type": "code",
   "execution_count": 4,
   "metadata": {},
   "outputs": [],
   "source": [
    "class Rescale(object):\n",
    "    \"\"\"Rescale the image in a sample to a given size.\n",
    "\n",
    "    Args:\n",
    "        output_size (tuple or int): Desired output size. If tuple, output is\n",
    "            matched to output_size. If int, smaller of image edges is matched\n",
    "            to output_size keeping aspect ratio the same.\n",
    "    \"\"\"\n",
    "\n",
    "    def __init__(self, output_size):\n",
    "        assert isinstance(output_size, (int, tuple))\n",
    "        self.output_size = output_size\n",
    "\n",
    "    def __call__(self, sample):\n",
    "        image, label = sample[0], sample[1] \n",
    "\n",
    "        h, w = image.shape[:2]\n",
    "        if isinstance(self.output_size, int):\n",
    "            if h > w:\n",
    "                new_h, new_w = self.output_size * h / w, self.output_size\n",
    "            else:\n",
    "                new_h, new_w = self.output_size, self.output_size * w / h\n",
    "        else:\n",
    "            new_h, new_w = self.output_size\n",
    "\n",
    "        new_h, new_w = int(new_h), int(new_w)\n",
    "\n",
    "        img = transform.resize(image, (new_h, new_w))\n",
    "\n",
    "        return (img, label)\n",
    "\n",
    "\n",
    "class RandomCrop(object):\n",
    "    \"\"\"Crop randomly the image in a sample.\n",
    "\n",
    "    Args:\n",
    "        output_size (tuple or int): Desired output size. If int, square crop\n",
    "            is made.\n",
    "    \"\"\"\n",
    "\n",
    "    def __init__(self, output_size):\n",
    "        assert isinstance(output_size, (int, tuple))\n",
    "        if isinstance(output_size, int):\n",
    "            self.output_size = (output_size, output_size)\n",
    "        else:\n",
    "            assert len(output_size) == 2\n",
    "            self.output_size = output_size\n",
    "\n",
    "    def __call__(self, sample):\n",
    "        image, label = sample[0], sample[1] \n",
    "\n",
    "        h, w = image.shape[:2]\n",
    "        new_h, new_w = self.output_size\n",
    "\n",
    "        top = np.random.randint(0, h - new_h)\n",
    "        left = np.random.randint(0, w - new_w)\n",
    "        image = image[top: top + new_h, left: left + new_w]\n",
    "        return (image, label)\n",
    "\n",
    "    \n",
    "class ToTensor(object):\n",
    "    \"\"\"Convert ndarrays in sample to Tensors.\"\"\"\n",
    "\n",
    "    def __call__(self, sample):\n",
    "        image, label = sample[0], sample[1] \n",
    "        # swap color axis because\n",
    "        # numpy image: H x W x C\n",
    "        # torch image: C X H X W\n",
    "        image = image.transpose((2, 0, 1)).astype(float)\n",
    "        return (torch.from_numpy(image), torch.tensor(label))"
   ]
  },
  {
   "cell_type": "code",
   "execution_count": 10,
   "metadata": {},
   "outputs": [],
   "source": [
    "train_dataset = costum_images_dataset(root_dir='/StudentData/train/', transform=transforms.Compose([Rescale((32,32)),ToTensor()]))\n",
    "train_loader = torch.utils.data.DataLoader(train_dataset, batch_size = 512, shuffle=True, num_workers=2)\n",
    "\n",
    "test_dataset = costum_images_dataset(root_dir='/StudentData/test/', transform=transforms.Compose([Rescale((32,32)),ToTensor()]))\n",
    "test_loader = torch.utils.data.DataLoader(test_dataset, batch_size = 512, shuffle=False, num_workers=2)"
   ]
  },
  {
   "cell_type": "markdown",
   "metadata": {},
   "source": [
    "# Define Network #1"
   ]
  },
  {
   "cell_type": "code",
   "execution_count": 9,
   "metadata": {},
   "outputs": [],
   "source": [
    "class CNN(nn.Module):\n",
    "    def __init__(self):\n",
    "        super(CNN, self).__init__()\n",
    "        self.layer1 = nn.Sequential(\n",
    "            nn.Conv2d(3, 8, kernel_size=5, padding=2),\n",
    "            nn.ReLU())\n",
    "        self.layer25 = nn.Sequential(\n",
    "            nn.Conv2d(8, 16, kernel_size=3, padding=1),\n",
    "            nn.ReLU())\n",
    "        self.layer2 = nn.Sequential(\n",
    "            nn.Conv2d(16, 32, kernel_size=3, padding=1),\n",
    "            nn.ReLU())\n",
    "        self.layer3 = nn.Sequential(\n",
    "            nn.Conv2d(32, 64, kernel_size=3, padding=1),\n",
    "            nn.BatchNorm2d(64),\n",
    "            nn.ReLU(),\n",
    "            nn.MaxPool2d(2))\n",
    "        self.layer4 = nn.Sequential(\n",
    "            nn.Conv2d(64, 128, kernel_size=3, padding=1),\n",
    "            nn.MaxPool2d(2),\n",
    "            nn.ReLU())\n",
    "        self.layer5 = nn.Sequential(\n",
    "            nn.Conv2d(128, 256, kernel_size=3, padding=1),\n",
    "            nn.BatchNorm2d(256),\n",
    "            nn.ReLU(),\n",
    "            nn.MaxPool2d(2))\n",
    "        self.fc = nn.Linear(4 * 4 * 256, 2) # 4*4*256, 2\n",
    "        self.dropout = nn.Dropout(p=0.2)\n",
    "        self.logsoftmax = nn.LogSoftmax()\n",
    "        self.softmax = nn.Softmax()\n",
    "        self.relu = nn.ReLU()\n",
    "        \n",
    "    def forward(self, x):\n",
    "        out = self.layer1(x)\n",
    "        out = self.layer25(out) \n",
    "        out = self.layer2(out) \n",
    "#         out = self.dropout(out)\n",
    "        out = self.layer3(out)\n",
    "        out = self.layer4(out)\n",
    "#         out = self.dropout(out)\n",
    "        out = self.layer5(out) \n",
    "        out = out.view(out.size(0), -1)  \n",
    "#         out = self.dropout(out)\n",
    "        out = self.fc(out) \n",
    "\n",
    "        return self.softmax(out)"
   ]
  },
  {
   "cell_type": "code",
   "execution_count": 10,
   "metadata": {},
   "outputs": [
    {
     "name": "stdout",
     "output_type": "stream",
     "text": [
      "number of parameters:  402770\n",
      "Num of trainable parameters : 402770\n"
     ]
    }
   ],
   "source": [
    "cnn = CNN()\n",
    "cnn = to_gpu(cnn)\n",
    "\n",
    "criterion = nn.NLLLoss()\n",
    "criterion = to_gpu(criterion)\n",
    "\n",
    "print('number of parameters: ', sum(param.numel() for param in cnn.parameters()))\n",
    "print(f'Num of trainable parameters : {sum(p.numel() for p in cnn.parameters() if p.requires_grad)}')"
   ]
  },
  {
   "cell_type": "markdown",
   "metadata": {},
   "source": [
    "# Model Training"
   ]
  },
  {
   "cell_type": "code",
   "execution_count": 11,
   "metadata": {},
   "outputs": [],
   "source": [
    "my_max_model = to_gpu(CNN())\n",
    "my_max_score = 95.07"
   ]
  },
  {
   "cell_type": "code",
   "execution_count": 29,
   "metadata": {},
   "outputs": [
    {
     "name": "stdout",
     "output_type": "stream",
     "text": [
      "290.8878891468048  epoch is: 1 Test Accuracy of the model is: 84.29181728557344\n",
      "304.2421898841858  epoch is: 2 Test Accuracy of the model is: 90.00985869208019\n",
      "294.1089060306549  epoch is: 3 Test Accuracy of the model is: 91.07788366743345\n",
      "287.8298451900482  epoch is: 4 Test Accuracy of the model is: 92.0308905685179\n",
      "288.57837414741516  epoch is: 5 Test Accuracy of the model is: 92.17877094972067\n",
      "288.2446298599243  epoch is: 6 Test Accuracy of the model is: 92.37594479132436\n",
      "292.67113876342773  epoch is: 7 Test Accuracy of the model is: 92.70456786066381\n",
      "298.5642294883728  epoch is: 8 Test Accuracy of the model is: 92.75386132106473\n",
      "292.27025961875916  epoch is: 9 Test Accuracy of the model is: 92.35951363785738\n",
      "294.10697317123413  epoch is: 10 Test Accuracy of the model is: 92.60598093986198\n"
     ]
    }
   ],
   "source": [
    "optimizer = torch.optim.Adam(cnn.parameters(), lr=0.001, weight_decay=0.001)\n",
    "\n",
    "train_errors_per_epoch = []\n",
    "train_loss_per_epoch = []\n",
    "train_f1_per_epoch = []\n",
    "\n",
    "test_errors_per_epoch = []\n",
    "test_loss_per_epoch = []\n",
    "test_f1_per_epoch = []\n",
    "\n",
    "for epoch in range(10):\n",
    "    start = time.time()\n",
    "    epoch_loss = 0.0\n",
    "    for i, (images, labels) in enumerate(train_loader):\n",
    "        images = to_gpu(images)\n",
    "        labels = to_gpu(labels)\n",
    "        # Forward + Backward + Optimize\n",
    "        optimizer.zero_grad()\n",
    "        images = images.float()\n",
    "        outputs = cnn(images)\n",
    "        loss = criterion(outputs, labels)\n",
    "        loss.backward()\n",
    "        optimizer.step()\n",
    "        epoch_loss += loss.item()\n",
    "    \n",
    "    #end of epoch\n",
    "    cnn.eval() \n",
    "    correct = 0\n",
    "    total = 0\n",
    "    for images, labels in test_loader:\n",
    "        images = to_gpu(images)\n",
    "        images = images.float()\n",
    "        outputs = cnn(images)\n",
    "        _, predicted = torch.max(outputs.data, 1)\n",
    "        total += labels.size(0)\n",
    "        correct += (predicted.cpu() == labels).sum()\n",
    "    print(time.time() - start, ' epoch is:', epoch+1 , 'Test Accuracy of the model is:', float((100 * correct.item() / total)))\n",
    "    if  float((100 * correct.item() / total)) > my_max_score:\n",
    "        my_max_score = float((100 * correct.item() / total))\n",
    "        my_max_model = cnn\n",
    "    \n",
    "    #train\n",
    "    correct = 0\n",
    "    total = 0    \n",
    "    y_pred = []\n",
    "    y_true = []\n",
    "    for images, labels in train_loader:\n",
    "        images = to_gpu(images)\n",
    "        images = images.float()\n",
    "        labels = to_gpu(labels)\n",
    "        \n",
    "        outputs = cnn(images)\n",
    "        _, predicted = torch.max(outputs.data, 1)\n",
    "        total += labels.size(0)\n",
    "        correct += (predicted == labels).sum()\n",
    "        y_pred += [x.item() for x in predicted] # save all predictions\n",
    "        y_true += [x.item() for x in labels] # save all true values\n",
    "    \n",
    "    train_loss_per_epoch.append(epoch_loss / len(train_loader )) # save loss so far\n",
    "    train_errors_per_epoch.append( 1 - float(correct.item()) / float(total)) # save error so far\n",
    "    train_f1_per_epoch.append(f1_score(y_true, y_pred, average='binary'))  # save f1 so far\n",
    "    \n",
    "    \n",
    "    #test\n",
    "    temp_test_loss = 0.0\n",
    "    correct = 0\n",
    "    total = 0\n",
    "    y_pred = []\n",
    "    y_true = []\n",
    "    for images, labels in test_loader:\n",
    "        images = to_gpu(images)\n",
    "        images = images.float()\n",
    "        labels = to_gpu(labels)\n",
    "        outputs = cnn(images)\n",
    "        _, predicted = torch.max(outputs.data, 1)\n",
    "        total += labels.size(0)\n",
    "        correct += (predicted == labels).sum()\n",
    "        loss = criterion(outputs, labels)\n",
    "        temp_test_loss += loss.item()\n",
    "        y_pred += [x.item() for x in predicted] # save all predictions\n",
    "        y_true += [x.item() for x in labels] # save all true values\n",
    "        \n",
    "    test_loss_per_epoch.append(float(temp_test_loss)/float(len(test_loader)))  # save loss so far\n",
    "    test_errors_per_epoch.append( 1 -  float(correct.item()) / float(total)) # save error so far\n",
    "    test_f1_per_epoch.append(f1_score(y_true, y_pred, average='binary')) # save f1 so far"
   ]
  },
  {
   "cell_type": "code",
   "execution_count": 11,
   "metadata": {},
   "outputs": [],
   "source": [
    "#torch.save(cnn.state_dict(), 'cnn_best_v1.pkl')"
   ]
  },
  {
   "cell_type": "markdown",
   "metadata": {},
   "source": [
    "# Plot Graphs"
   ]
  },
  {
   "cell_type": "markdown",
   "metadata": {},
   "source": [
    "### Errors per Epoch"
   ]
  },
  {
   "cell_type": "code",
   "execution_count": 30,
   "metadata": {},
   "outputs": [
    {
     "data": {
      "text/plain": [
       "<matplotlib.legend.Legend at 0x7fcc08ba64d0>"
      ]
     },
     "execution_count": 30,
     "metadata": {},
     "output_type": "execute_result"
    },
    {
     "data": {
      "image/png": "[encoded data removed]",
      "text/plain": [
       "<Figure size 432x288 with 1 Axes>"
      ]
     },
     "metadata": {
      "needs_background": "light"
     },
     "output_type": "display_data"
    }
   ],
   "source": [
    "epoch_list = list(range(1,10 + 1))\n",
    "\n",
    "plt.plot(epoch_list,train_errors_per_epoch, label='train')\n",
    "plt.plot(epoch_list,test_errors_per_epoch,label='test')\n",
    "plt.xlabel('Epochs')\n",
    "plt.ylabel('Error')\n",
    "plt.legend()"
   ]
  },
  {
   "cell_type": "markdown",
   "metadata": {},
   "source": [
    "### Loss per Epoch"
   ]
  },
  {
   "cell_type": "code",
   "execution_count": 31,
   "metadata": {},
   "outputs": [
    {
     "data": {
      "text/plain": [
       "<matplotlib.legend.Legend at 0x7fcc0892eb90>"
      ]
     },
     "execution_count": 31,
     "metadata": {},
     "output_type": "execute_result"
    },
    {
     "data": {
      "image/png": "[encoded data removed]",
      "text/plain": [
       "<Figure size 432x288 with 1 Axes>"
      ]
     },
     "metadata": {
      "needs_background": "light"
     },
     "output_type": "display_data"
    }
   ],
   "source": [
    "plt.plot(epoch_list,train_loss_per_epoch, label='train')\n",
    "plt.plot(epoch_list,test_loss_per_epoch,label='test')\n",
    "plt.xlabel('Epochs')\n",
    "plt.ylabel('Loss')\n",
    "plt.legend()"
   ]
  },
  {
   "cell_type": "markdown",
   "metadata": {},
   "source": [
    "### F1 per Epoch"
   ]
  },
  {
   "cell_type": "code",
   "execution_count": 32,
   "metadata": {},
   "outputs": [
    {
     "data": {
      "text/plain": [
       "<matplotlib.legend.Legend at 0x7fcc0891de90>"
      ]
     },
     "execution_count": 32,
     "metadata": {},
     "output_type": "execute_result"
    },
    {
     "data": {
      "image/png": "[encoded data removed]",
      "text/plain": [
       "<Figure size 432x288 with 1 Axes>"
      ]
     },
     "metadata": {
      "needs_background": "light"
     },
     "output_type": "display_data"
    }
   ],
   "source": [
    "plt.plot(epoch_list,train_f1_per_epoch, label='train')\n",
    "plt.plot(epoch_list,test_f1_per_epoch, label='test')\n",
    "plt.xlabel('Epochs')\n",
    "plt.ylabel('F1')\n",
    "plt.legend()"
   ]
  },
  {
   "cell_type": "markdown",
   "metadata": {},
   "source": [
    "### ROC AUC CURVE"
   ]
  },
  {
   "cell_type": "code",
   "execution_count": 33,
   "metadata": {},
   "outputs": [],
   "source": [
    "from sklearn import metrics\n",
    "import matplotlib.pyplot as plt\n",
    "\n",
    "#ROC for train data\n",
    "y_prob = []\n",
    "y_true = []\n",
    "for images, labels in train_loader:\n",
    "    images = to_gpu(images)\n",
    "    images = images.float()\n",
    "    labels = to_gpu(labels)\n",
    "    outputs = cnn(images)\n",
    "    y_prob += outputs.tolist() # save all predictions\n",
    "    y_true += [x.item() for x in labels] # save all true values"
   ]
  },
  {
   "cell_type": "code",
   "execution_count": 34,
   "metadata": {},
   "outputs": [],
   "source": [
    "#ROC for test data\n",
    "y_test_prob = []\n",
    "y_test_true = []\n",
    "for images, labels in test_loader:\n",
    "    images = to_gpu(images)\n",
    "    images = images.float()\n",
    "    labels = to_gpu(labels)\n",
    "    outputs = cnn(images)\n",
    "    y_test_prob += outputs.tolist() # save all predictions\n",
    "    y_test_true += [x.item() for x in labels] # save all true values"
   ]
  },
  {
   "cell_type": "code",
   "execution_count": 35,
   "metadata": {},
   "outputs": [
    {
     "data": {
      "image/png": "[encoded data removed]",
      "text/plain": [
       "<Figure size 432x288 with 1 Axes>"
      ]
     },
     "metadata": {
      "needs_background": "light"
     },
     "output_type": "display_data"
    }
   ],
   "source": [
    "fpr, tpr, _ = metrics.roc_curve(y_true, [x[1] for x in y_prob])\n",
    "auc = metrics.roc_auc_score(y_true,  [x[1] for x in y_prob])\n",
    "plt.plot(fpr,tpr,label=\"train , auc=\" + str(auc))\n",
    "\n",
    "fpr_t, tpr_t, _ = metrics.roc_curve(y_test_true, [x[1] for x in y_test_prob])\n",
    "auc_t = metrics.roc_auc_score(y_test_true,  [x[1] for x in y_test_prob])\n",
    "plt.plot(fpr_t, tpr_t,label=\"test , auc= \" + str(auc_t))\n",
    "\n",
    "plt.legend(loc=4)\n",
    "plt.show()"
   ]
  }
 ],
 "metadata": {
  "kernelspec": {
   "display_name": "py37_pytorch",
   "language": "python",
   "name": "conda-env-py37_pytorch-py"
  },
  "language_info": {
   "codemirror_mode": {
    "name": "ipython",
    "version": 3
   },
   "file_extension": ".py",
   "mimetype": "text/x-python",
   "name": "python",
   "nbconvert_exporter": "python",
   "pygments_lexer": "ipython3",
   "version": "3.7.6"
  }
 },
 "nbformat": 4,
 "nbformat_minor": 4
}
