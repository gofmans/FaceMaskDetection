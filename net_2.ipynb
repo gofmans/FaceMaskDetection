{
 "cells": [
  {
   "cell_type": "code",
   "execution_count": 11,
   "metadata": {},
   "outputs": [],
   "source": [
    "from torch.utils.data import Dataset, DataLoader\n",
    "import torchvision.transforms as transforms\n",
    "from torchvision import transforms, utils\n",
    "import torchvision.datasets as dsets\n",
    "from sklearn.metrics import f1_score\n",
    "from skimage import io, transform\n",
    "import matplotlib.image as mpimg\n",
    "import torch.nn.functional as F\n",
    "import matplotlib.pyplot as plt\n",
    "from torch.optim import Adam\n",
    "import torch.optim as optim\n",
    "import torch.nn as nn\n",
    "import pandas as pd\n",
    "import numpy as np\n",
    "import torchvision\n",
    "import warnings\n",
    "import torch\n",
    "import time\n",
    "import os\n",
    "\n",
    "warnings.filterwarnings(\"ignore\")"
   ]
  },
  {
   "cell_type": "code",
   "execution_count": 2,
   "metadata": {},
   "outputs": [],
   "source": [
    "def to_gpu(x):\n",
    "    return x.cuda() if torch.cuda.is_available() else x"
   ]
  },
  {
   "cell_type": "markdown",
   "metadata": {},
   "source": [
    "# Define Data Loading"
   ]
  },
  {
   "cell_type": "code",
   "execution_count": 3,
   "metadata": {},
   "outputs": [],
   "source": [
    "class costum_images_dataset(Dataset):\n",
    "    def __init__(self, root_dir, transform=None):\n",
    "        self.root_dir = root_dir\n",
    "        self.transform = transform\n",
    "\n",
    "    def __len__(self):\n",
    "        return len(os.listdir(self.root_dir))\n",
    "\n",
    "    def __getitem__(self, idx):\n",
    "        if torch.is_tensor(idx):\n",
    "            idx = idx.tolist()\n",
    "        \n",
    "        img_name = os.path.join(self.root_dir, sorted(os.listdir(self.root_dir))[idx])\n",
    "        image = io.imread(img_name)\n",
    "        label = img_name[-5] # get the label of a given image\n",
    "        sample = (image, int(label))\n",
    "\n",
    "        if self.transform:\n",
    "            sample = self.transform(sample)\n",
    "\n",
    "        return sample"
   ]
  },
  {
   "cell_type": "code",
   "execution_count": 4,
   "metadata": {},
   "outputs": [],
   "source": [
    "class Rescale(object):\n",
    "    def __init__(self, output_size):\n",
    "        assert isinstance(output_size, (int, tuple))\n",
    "        self.output_size = output_size\n",
    "\n",
    "    def __call__(self, sample):\n",
    "        image, label = sample[0], sample[1] \n",
    "\n",
    "        h, w = image.shape[:2]\n",
    "        if isinstance(self.output_size, int):\n",
    "            if h > w:\n",
    "                new_h, new_w = self.output_size * h / w, self.output_size\n",
    "            else:\n",
    "                new_h, new_w = self.output_size, self.output_size * w / h\n",
    "        else:\n",
    "            new_h, new_w = self.output_size\n",
    "\n",
    "        new_h, new_w = int(new_h), int(new_w)\n",
    "\n",
    "        img = transform.resize(image, (new_h, new_w))\n",
    "\n",
    "        return (img, label)\n",
    "\n",
    "\n",
    "class ToTensor(object):\n",
    "    def __call__(self, sample):\n",
    "        image, label = sample[0], sample[1] \n",
    "        # swap color axis because\n",
    "        # numpy image: H x W x C\n",
    "        # torch image: C X H X W\n",
    "        image = image.transpose((2, 0, 1)).astype(float)\n",
    "        return (torch.from_numpy(image), torch.tensor(label))"
   ]
  },
  {
   "cell_type": "code",
   "execution_count": 5,
   "metadata": {},
   "outputs": [],
   "source": [
    "train_dataset = costum_images_dataset(root_dir='/StudentData/train/', transform=transforms.Compose([Rescale((64,64)),ToTensor()]))\n",
    "train_loader = torch.utils.data.DataLoader(train_dataset, batch_size = 128, shuffle=True, num_workers=2)\n",
    "\n",
    "test_dataset = costum_images_dataset(root_dir='/StudentData/test/', transform=transforms.Compose([Rescale((64,64)),ToTensor()]))\n",
    "test_loader = torch.utils.data.DataLoader(test_dataset, batch_size = 128, shuffle=False, num_workers=2)"
   ]
  },
  {
   "cell_type": "markdown",
   "metadata": {},
   "source": [
    "# Define Network #2"
   ]
  },
  {
   "cell_type": "code",
   "execution_count": 6,
   "metadata": {},
   "outputs": [],
   "source": [
    "class CNN_2(nn.Module):\n",
    "    def __init__(self):\n",
    "        super(CNN_2, self).__init__()\n",
    "        self.layer1 = nn.Sequential(\n",
    "            nn.Conv2d(3, 8, kernel_size=5, padding=2),\n",
    "            nn.ReLU())\n",
    "        self.layer2 = nn.Sequential(\n",
    "            nn.Conv2d(8, 16, kernel_size=5, padding=2),\n",
    "            nn.ReLU())\n",
    "        self.layer3 = nn.Sequential(\n",
    "            nn.Conv2d(16, 32, kernel_size=5, padding=2),\n",
    "            nn.ReLU())\n",
    "        self.layer4 = nn.Sequential(\n",
    "            nn.Conv2d(32, 64, kernel_size=5, padding=2),\n",
    "            nn.BatchNorm2d(64),\n",
    "            nn.ReLU(),\n",
    "            nn.MaxPool2d(2))\n",
    "        self.layer5 = nn.Sequential(\n",
    "            nn.Conv2d(64, 128, kernel_size=5, padding=2),\n",
    "            nn.ReLU())\n",
    "        self.layer6 = nn.Sequential(\n",
    "            nn.Conv2d(128, 256, kernel_size=3, padding=1),\n",
    "            nn.MaxPool2d(2),\n",
    "            nn.ReLU())\n",
    "        self.layer7 = nn.Sequential(\n",
    "            nn.Conv2d(256, 512, kernel_size=3, padding=1),\n",
    "            nn.BatchNorm2d(512),\n",
    "            nn.ReLU(),\n",
    "            nn.MaxPool2d(2))\n",
    "        self.fc = nn.Linear(8 * 8 * 512, 2)\n",
    "        self.dropout = nn.Dropout(p=0.2)\n",
    "        self.logsoftmax = nn.LogSoftmax()\n",
    "        self.softmax = nn.Softmax()\n",
    "        self.relu = nn.ReLU()\n",
    "        \n",
    "    def forward(self, x):\n",
    "        out = self.layer1(x)\n",
    "        out = self.layer2(out) \n",
    "        out = self.layer3(out) \n",
    "        out = self.dropout(out)\n",
    "        out = self.layer4(out)\n",
    "        out = self.layer5(out)\n",
    "        out = self.layer6(out)\n",
    "        out = self.layer7(out)\n",
    "        out = out.view(out.size(0), -1)  \n",
    "        out = self.dropout(out)\n",
    "        out = self.fc(out) \n",
    "\n",
    "        return self.softmax(out)"
   ]
  },
  {
   "cell_type": "code",
   "execution_count": 7,
   "metadata": {},
   "outputs": [
    {
     "name": "stdout",
     "output_type": "stream",
     "text": [
      "number of parameters:  1814866\n",
      "Num of trainable parameters : 1814866\n"
     ]
    }
   ],
   "source": [
    "cnn = CNN_2()\n",
    "cnn = to_gpu(cnn)\n",
    "\n",
    "criterion = nn.NLLLoss()\n",
    "criterion = to_gpu(criterion)\n",
    "\n",
    "print('number of parameters: ', sum(param.numel() for param in cnn.parameters()))\n",
    "print(f'Num of trainable parameters : {sum(p.numel() for p in cnn.parameters() if p.requires_grad)}')"
   ]
  },
  {
   "cell_type": "code",
   "execution_count": 8,
   "metadata": {},
   "outputs": [],
   "source": [
    "my_max_model = to_gpu(CNN_2())\n",
    "my_max_score = 95.974"
   ]
  },
  {
   "cell_type": "markdown",
   "metadata": {},
   "source": [
    "# Model Training"
   ]
  },
  {
   "cell_type": "code",
   "execution_count": null,
   "metadata": {},
   "outputs": [],
   "source": [
    "optimizer = torch.optim.Adam(cnn.parameters(), lr=0.001, weight_decay=0.001)\n",
    "\n",
    "train_errors_per_epoch = []\n",
    "train_loss_per_epoch = []\n",
    "train_f1_per_epoch = []\n",
    "\n",
    "test_errors_per_epoch = []\n",
    "test_loss_per_epoch = []\n",
    "test_f1_per_epoch = []\n",
    "\n",
    "cnn.train()\n",
    "for epoch in range(50):\n",
    "    start = time.time()\n",
    "    epoch_loss = 0.0\n",
    "    cnn.train()\n",
    "    for i, (images, labels) in enumerate(train_loader):\n",
    "        images = to_gpu(images)\n",
    "        labels = to_gpu(labels)\n",
    "        # Forward + Backward + Optimize\n",
    "        optimizer.zero_grad()\n",
    "        images = images.float()\n",
    "        outputs = cnn(images)\n",
    "        loss = criterion(outputs, labels)\n",
    "        loss.backward()\n",
    "        optimizer.step()\n",
    "        epoch_loss += loss.item()\n",
    "    \n",
    "    #end of epoch\n",
    "    cnn.eval() \n",
    "    correct = 0\n",
    "    total = 0\n",
    "    for images, labels in test_loader:\n",
    "        images = to_gpu(images)\n",
    "        images = images.float()\n",
    "        outputs = cnn(images)\n",
    "        _, predicted = torch.max(outputs.data, 1)\n",
    "        total += labels.size(0)\n",
    "        correct += (predicted.cpu() == labels).sum()\n",
    "    print(time.time() - start, ' epoch is:', epoch+1 , 'Test Accuracy of the model is:', float((100 * correct.item() / total)))\n",
    "    if  float((100 * correct.item() / total)) > my_max_score:\n",
    "        my_max_score = float((100 * correct.item() / total))\n",
    "        my_max_model = cnn\n",
    "    \n",
    "    #train\n",
    "    correct = 0\n",
    "    total = 0    \n",
    "    y_pred = []\n",
    "    y_true = []\n",
    "    for images, labels in train_loader:\n",
    "        images = to_gpu(images)\n",
    "        images = images.float()\n",
    "        labels = to_gpu(labels)\n",
    "        \n",
    "        outputs = cnn(images)\n",
    "        _, predicted = torch.max(outputs.data, 1)\n",
    "        total += labels.size(0)\n",
    "        correct += (predicted == labels).sum()\n",
    "        y_pred += [x.item() for x in predicted] # save all predictions\n",
    "        y_true += [x.item() for x in labels] # save all true values\n",
    "    \n",
    "    train_loss_per_epoch.append(epoch_loss / len(train_loader )) # save loss so far\n",
    "    train_errors_per_epoch.append( 1 - float(correct.item()) / float(total)) # save error so far\n",
    "    train_f1_per_epoch.append(f1_score(y_true, y_pred, average='binary'))  # save f1 so far\n",
    "    \n",
    "    #test\n",
    "    temp_test_loss = 0.0\n",
    "    correct = 0\n",
    "    total = 0\n",
    "    y_pred = []\n",
    "    y_true = []\n",
    "    for images, labels in test_loader:\n",
    "        images = to_gpu(images)\n",
    "        images = images.float()\n",
    "        labels = to_gpu(labels)\n",
    "        outputs = cnn(images)\n",
    "        _, predicted = torch.max(outputs.data, 1)\n",
    "        total += labels.size(0)\n",
    "        correct += (predicted == labels).sum()\n",
    "        loss = criterion(outputs, labels)\n",
    "        temp_test_loss += loss.item()\n",
    "        y_pred += [x.item() for x in predicted] # save all predictions\n",
    "        y_true += [x.item() for x in labels] # save all true values\n",
    "        \n",
    "    test_loss_per_epoch.append(float(temp_test_loss)/float(len(test_loader)))  # save loss so far\n",
    "    test_errors_per_epoch.append( 1 -  float(correct.item()) / float(total)) # save error so far\n",
    "    test_f1_per_epoch.append(f1_score(y_true, y_pred, average='binary')) # save f1 so far"
   ]
  },
  {
   "cell_type": "code",
   "execution_count": 14,
   "metadata": {},
   "outputs": [],
   "source": [
    "# torch.save(cnn.state_dict(), 'cnn_best_v2.pkl') # 0.9631190727081138"
   ]
  },
  {
   "cell_type": "markdown",
   "metadata": {},
   "source": [
    "# Plot Graphs"
   ]
  },
  {
   "cell_type": "markdown",
   "metadata": {},
   "source": [
    "### Errors per Epoch"
   ]
  },
  {
   "cell_type": "code",
   "execution_count": 16,
   "metadata": {},
   "outputs": [
    {
     "data": {
      "text/plain": [
       "<matplotlib.legend.Legend at 0x7f0051977410>"
      ]
     },
     "execution_count": 16,
     "metadata": {},
     "output_type": "execute_result"
    },
    {
     "data": {
      "image/png": "[encoded data removed]",
      "text/plain": [
       "<Figure size 432x288 with 1 Axes>"
      ]
     },
     "metadata": {
      "needs_background": "light"
     },
     "output_type": "display_data"
    }
   ],
   "source": [
    "epoch_list = list(range(1,50 + 1))\n",
    "\n",
    "plt.plot(epoch_list,train_errors_per_epoch, label='train')\n",
    "plt.plot(epoch_list,test_errors_per_epoch,label='test')\n",
    "plt.xlabel('Epochs')\n",
    "plt.ylabel('Error')\n",
    "plt.legend()"
   ]
  },
  {
   "cell_type": "markdown",
   "metadata": {},
   "source": [
    "### Loss per Epoch"
   ]
  },
  {
   "cell_type": "code",
   "execution_count": 17,
   "metadata": {},
   "outputs": [
    {
     "data": {
      "text/plain": [
       "<matplotlib.legend.Legend at 0x7f00518ee110>"
      ]
     },
     "execution_count": 17,
     "metadata": {},
     "output_type": "execute_result"
    },
    {
     "data": {
      "image/png": "[encoded data removed]",
      "text/plain": [
       "<Figure size 432x288 with 1 Axes>"
      ]
     },
     "metadata": {
      "needs_background": "light"
     },
     "output_type": "display_data"
    }
   ],
   "source": [
    "plt.plot(epoch_list,train_loss_per_epoch, label='train')\n",
    "plt.plot(epoch_list,test_loss_per_epoch,label='test')\n",
    "plt.xlabel('Epochs')\n",
    "plt.ylabel('Loss')\n",
    "plt.legend()"
   ]
  },
  {
   "cell_type": "markdown",
   "metadata": {},
   "source": [
    "### F1 per Epoch"
   ]
  },
  {
   "cell_type": "code",
   "execution_count": 18,
   "metadata": {},
   "outputs": [
    {
     "data": {
      "text/plain": [
       "<matplotlib.legend.Legend at 0x7f0051693a50>"
      ]
     },
     "execution_count": 18,
     "metadata": {},
     "output_type": "execute_result"
    },
    {
     "data": {
      "image/png": "[encoded data removed]",
      "text/plain": [
       "<Figure size 432x288 with 1 Axes>"
      ]
     },
     "metadata": {
      "needs_background": "light"
     },
     "output_type": "display_data"
    }
   ],
   "source": [
    "plt.plot(epoch_list,train_f1_per_epoch, label='train')\n",
    "plt.plot(epoch_list,test_f1_per_epoch, label='test')\n",
    "plt.xlabel('Epochs')\n",
    "plt.ylabel('F1')\n",
    "plt.legend()"
   ]
  },
  {
   "cell_type": "markdown",
   "metadata": {},
   "source": [
    "### ROC AUC CURVE"
   ]
  },
  {
   "cell_type": "code",
   "execution_count": 19,
   "metadata": {
    "scrolled": true
   },
   "outputs": [
    {
     "data": {
      "image/png": "[encoded data removed]",
      "text/plain": [
       "<Figure size 432x288 with 1 Axes>"
      ]
     },
     "metadata": {
      "needs_background": "light"
     },
     "output_type": "display_data"
    }
   ],
   "source": [
    "from sklearn import metrics\n",
    "import matplotlib.pyplot as plt\n",
    "\n",
    "#ROC for train data\n",
    "y_prob = []\n",
    "y_true = []\n",
    "for images, labels in train_loader:\n",
    "    images = to_gpu(images)\n",
    "    images = images.float()\n",
    "    labels = to_gpu(labels)\n",
    "    outputs = cnn(images)\n",
    "    y_prob += outputs.tolist() # save all predictions\n",
    "    y_true += [x.item() for x in labels] # save all true values\n",
    "    \n",
    "#ROC for test data\n",
    "y_test_prob = []\n",
    "y_test_true = []\n",
    "for images, labels in test_loader:\n",
    "    images = to_gpu(images)\n",
    "    images = images.float()\n",
    "    labels = to_gpu(labels)\n",
    "    outputs = cnn(images)\n",
    "    y_test_prob += outputs.tolist() # save all predictions\n",
    "    y_test_true += [x.item() for x in labels] # save all true values\n",
    "    \n",
    "fpr, tpr, _ = metrics.roc_curve(y_true, [x[1] for x in y_prob])\n",
    "auc = metrics.roc_auc_score(y_true,  [x[1] for x in y_prob])\n",
    "plt.plot(fpr,tpr,label=\"train , auc=\" + str(auc))\n",
    "\n",
    "fpr_t, tpr_t, _ = metrics.roc_curve(y_test_true, [x[1] for x in y_test_prob])\n",
    "auc_t = metrics.roc_auc_score(y_test_true,  [x[1] for x in y_test_prob])\n",
    "plt.plot(fpr_t, tpr_t,label=\"test , auc= \" + str(auc_t))\n",
    "\n",
    "plt.legend(loc=4)\n",
    "plt.show()"
   ]
  }
 ],
 "metadata": {
  "kernelspec": {
   "display_name": "py37_pytorch",
   "language": "python",
   "name": "conda-env-py37_pytorch-py"
  },
  "language_info": {
   "codemirror_mode": {
    "name": "ipython",
    "version": 3
   },
   "file_extension": ".py",
   "mimetype": "text/x-python",
   "name": "python",
   "nbconvert_exporter": "python",
   "pygments_lexer": "ipython3",
   "version": "3.7.6"
  }
 },
 "nbformat": 4,
 "nbformat_minor": 4
}
